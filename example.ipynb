{
 "cells": [
  {
   "cell_type": "code",
   "execution_count": 1,
   "id": "48c9ddce",
   "metadata": {},
   "outputs": [
    {
     "name": "stdout",
     "output_type": "stream",
     "text": [
      "cpu\n"
     ]
    }
   ],
   "source": [
    "import numpy as np\n",
    "import pandas as pd\n",
    "import matplotlib.pyplot as plt\n",
    "\n",
    "import torch\n",
    "from torch import nn\n",
    "import torch.nn.functional as F\n",
    "import torch.optim as optim\n",
    "\n",
    "from models import build_model\n",
    "from dataset import get_train_and_validation_dataset\n",
    "\n",
    "\n",
    "device = torch.device(\"cuda\" if torch.cuda.is_available() else \"cpu\")\n",
    "print(device)\n",
    "\n",
    "%load_ext autoreload\n",
    "%autoreload 2"
   ]
  },
  {
   "cell_type": "markdown",
   "id": "92a1ecea",
   "metadata": {},
   "source": [
    "# shapes"
   ]
  },
  {
   "cell_type": "markdown",
   "id": "4123224b",
   "metadata": {},
   "source": [
    "# Data exploration"
   ]
  },
  {
   "cell_type": "code",
   "execution_count": 2,
   "id": "d398d5be",
   "metadata": {},
   "outputs": [
    {
     "data": {
      "image/png": "[encoded data removed]",
      "text/plain": [
       "<Figure size 1000x100 with 10 Axes>"
      ]
     },
     "metadata": {},
     "output_type": "display_data"
    }
   ],
   "source": [
    "data_df = pd.read_csv(\"data/train.csv\")\n",
    "X_data = data_df.values[:,1:]\n",
    "y_data = data_df.values[:,0]\n",
    "\n",
    "data_df_test = pd.read_csv(\"data/test.csv\")\n",
    "X_test = data_df_test.values[:,1:]\n",
    "\n",
    "num_images = 10\n",
    "fig, ax = plt.subplots(1,num_images, figsize=(10, 1))\n",
    "\n",
    "\n",
    "for idx in range(0,num_images):\n",
    "    ax[idx].axis('off')\n",
    "    ax[idx].imshow(X_data[idx].reshape(28,28))\n",
    "    ax[idx].set_title(f\"Label: {y_data[idx]}\")\n"
   ]
  },
  {
   "cell_type": "markdown",
   "id": "c2652f76",
   "metadata": {},
   "source": [
    "### Is the dataset balanced?\n",
    "\n",
    "- there are an equal number of each digit in the data"
   ]
  },
  {
   "cell_type": "code",
   "execution_count": 40,
   "id": "2cfd96b9",
   "metadata": {},
   "outputs": [
    {
     "data": {
      "text/plain": [
       "128"
      ]
     },
     "execution_count": 40,
     "metadata": {},
     "output_type": "execute_result"
    }
   ],
   "source": [
    "64*2"
   ]
  },
  {
   "cell_type": "code",
   "execution_count": 3,
   "id": "2bffd7c6",
   "metadata": {},
   "outputs": [
    {
     "name": "stdout",
     "output_type": "stream",
     "text": [
      "(array([0, 1, 2, 3, 4, 5, 6, 7, 8, 9]), array([6000, 6000, 6000, 6000, 6000, 6000, 6000, 6000, 6000, 6000]))\n"
     ]
    }
   ],
   "source": [
    "\n",
    "print(np.unique(y_data, return_counts=True))"
   ]
  },
  {
   "cell_type": "markdown",
   "id": "229394a7",
   "metadata": {},
   "source": [
    "## Are there any duplicates?\n",
    "\n",
    "- There are no duplicates images in the training and validation dataset"
   ]
  },
  {
   "cell_type": "code",
   "execution_count": 4,
   "id": "17bd7122",
   "metadata": {},
   "outputs": [
    {
     "name": "stdout",
     "output_type": "stream",
     "text": [
      "Training data has duplicates: False\n",
      "Testing data has duplicates: False\n"
     ]
    }
   ],
   "source": [
    "def has_duplicates(X):\n",
    "    _, num_unique_counts = np.unique(X, axis=0, return_counts=True)\n",
    "    return np.all(num_unique_counts!=1)\n",
    "\n",
    "print(f\"Training data has duplicates: {has_duplicates(X_data)}\")\n",
    "\n",
    "print(f\"Testing data has duplicates: {has_duplicates(X_test)}\")\n"
   ]
  },
  {
   "cell_type": "markdown",
   "id": "441c57e6",
   "metadata": {},
   "source": [
    "# Train"
   ]
  },
  {
   "cell_type": "code",
   "execution_count": 31,
   "id": "5484530b",
   "metadata": {},
   "outputs": [
    {
     "name": "stdout",
     "output_type": "stream",
     "text": [
      "CNN(\n",
      "  (cnn_layers): Sequential(\n",
      "    (0): Conv2d(1, 8, kernel_size=(3, 3), stride=(1, 1), padding=(1, 1))\n",
      "    (1): BatchNorm2d(8, eps=1e-05, momentum=0.1, affine=True, track_running_stats=True)\n",
      "    (2): ReLU(inplace=True)\n",
      "    (3): MaxPool2d(kernel_size=2, stride=2, padding=0, dilation=1, ceil_mode=False)\n",
      "    (4): Conv2d(8, 16, kernel_size=(3, 3), stride=(1, 1), padding=(1, 1))\n",
      "    (5): BatchNorm2d(16, eps=1e-05, momentum=0.1, affine=True, track_running_stats=True)\n",
      "    (6): ReLU(inplace=True)\n",
      "    (7): MaxPool2d(kernel_size=2, stride=2, padding=0, dilation=1, ceil_mode=False)\n",
      "    (8): Conv2d(16, 32, kernel_size=(3, 3), stride=(1, 1), padding=(1, 1))\n",
      "    (9): BatchNorm2d(32, eps=1e-05, momentum=0.1, affine=True, track_running_stats=True)\n",
      "    (10): ReLU(inplace=True)\n",
      "    (11): Conv2d(32, 16, kernel_size=(3, 3), stride=(1, 1), padding=(1, 1))\n",
      "    (12): BatchNorm2d(16, eps=1e-05, momentum=0.1, affine=True, track_running_stats=True)\n",
      "    (13): ReLU(inplace=True)\n",
      "    (14): Conv2d(16, 4, kernel_size=(3, 3), stride=(1, 1), padding=(1, 1))\n",
      "    (15): BatchNorm2d(4, eps=1e-05, momentum=0.1, affine=True, track_running_stats=True)\n",
      "    (16): ReLU(inplace=True)\n",
      "  )\n",
      "  (linear_layers): Sequential(\n",
      "    (0): Dropout(p=0.5, inplace=False)\n",
      "    (1): Linear(in_features=196, out_features=228, bias=True)\n",
      "    (2): ReLU(inplace=True)\n",
      "    (3): Dropout(p=0.5, inplace=False)\n",
      "    (4): Linear(in_features=228, out_features=10, bias=True)\n",
      "  )\n",
      ")\n"
     ]
    }
   ],
   "source": [
    "trainloader, valloader, testloader = get_train_and_validation_dataset(\n",
    "                                batch_size=64, \n",
    "                                proportion_train=0.8, \n",
    "                                )\n",
    "\n",
    "\n",
    "model = build_model()\n",
    "model.to(device)\n",
    "\n",
    "# learning_rate = 1e-2 # MLP\n",
    "learning_rate = 5e-3 # CNN\n",
    "\n",
    "\n",
    "optimiser = optim.Adam(model.parameters(), lr=learning_rate)#, weight_decay=0.005)\n",
    "criterion = nn.CrossEntropyLoss()\n",
    "\n",
    "print(model)"
   ]
  },
  {
   "cell_type": "code",
   "execution_count": 32,
   "id": "c1eb01b5",
   "metadata": {},
   "outputs": [],
   "source": [
    "# classes = range(10)\n",
    "\n",
    "# imgs, lbls = next(iter(trainloader))\n",
    "# imgs[7].data.shape\n",
    "# print(imgs.data.min())\n",
    "# print(imgs.data.max())\n",
    "# print(imgs.data.mean())\n",
    "# print(imgs.data.std())\n",
    "# print(classes[lbls[0]])\n",
    "# plt.imshow(imgs[0].data.reshape((28,28)), cmap=\"gray\")"
   ]
  },
  {
   "cell_type": "code",
   "execution_count": 33,
   "id": "a45b0726",
   "metadata": {},
   "outputs": [],
   "source": [
    "\n",
    "def train_epoch(epoch):\n",
    "    model.train()\n",
    "    for b_idx, (X_batch, y_batch) in enumerate(trainloader):\n",
    "        X_batch = X_batch.to(device)\n",
    "        y_batch = y_batch.to(device)\n",
    "#         optimiser.zero_grad()\n",
    "#         log_probs = model(X_batch)\n",
    "#         loss = criterion(log_probs, y_batch)\n",
    "#         loss.backward()\n",
    "#         optimiser.step()\n",
    "#         pred = log_probs.data.max(1, keepdim=True)[1]\n",
    "#         correct = pred.eq(y_batch.data.view_as(pred)).sum()\n",
    "    print(\"done\")\n",
    "#     print(f\"----\\nEpoch {epoch}: training loss={loss.item():.4f}\")\n",
    "\n",
    "def validate():\n",
    "    model.eval()\n",
    "    validate_loss = 0\n",
    "    correct = 0\n",
    "\n",
    "    with torch.no_grad():\n",
    "        for X, y in valloader:\n",
    "            X = X.to(device)\n",
    "            y = y.to(device)\n",
    "            log_probs = model(X)\n",
    "            validate_loss += criterion(log_probs, y).item()\n",
    "            pred = log_probs.data.max(1, keepdim=True)[1]\n",
    "            correct += pred.eq(y.data.view_as(pred)).sum()\n",
    "    validate_loss /= len(valloader.dataset)\n",
    "    \n",
    "    print(f\"Validation: loss={validate_loss:.6f}, accuracy={correct/len(X):.4f}%\")\n",
    "    return validate_loss\n"
   ]
  },
  {
   "cell_type": "code",
   "execution_count": 34,
   "id": "3decf222",
   "metadata": {},
   "outputs": [],
   "source": [
    "import time"
   ]
  },
  {
   "cell_type": "code",
   "execution_count": 35,
   "id": "5ee499bb",
   "metadata": {
    "scrolled": true
   },
   "outputs": [
    {
     "name": "stdout",
     "output_type": "stream",
     "text": [
      "Training Kannada-MNIST for 1 epochs\n",
      "\n",
      "done\n",
      "train time: 10.893sec\n",
      "Validation: loss=0.000192, accuracy=0.1000%\n",
      "val time: 2.935sec\n",
      "Done.\n",
      "CPU times: user 13.8 s, sys: 655 ms, total: 14.5 s\n",
      "Wall time: 13.8 s\n"
     ]
    }
   ],
   "source": [
    "%%time\n",
    "\n",
    "num_epochs = 1\n",
    "print(f\"Training Kannada-MNIST for {num_epochs} epochs\\n\")\n",
    "\n",
    "for epoch in range(1, num_epochs+1):\n",
    "    train_epoch(epoch)\n",
    "    _ = validate()\n",
    "print(\"Done.\")\n"
   ]
  },
  {
   "cell_type": "code",
   "execution_count": null,
   "id": "cb6b9a2c",
   "metadata": {},
   "outputs": [],
   "source": []
  },
  {
   "cell_type": "code",
   "execution_count": null,
   "id": "4987cf22",
   "metadata": {},
   "outputs": [],
   "source": []
  },
  {
   "cell_type": "code",
   "execution_count": 9,
   "id": "ad58c409",
   "metadata": {},
   "outputs": [
    {
     "data": {
      "text/html": [
       "<div>\n",
       "<style scoped>\n",
       "    .dataframe tbody tr th:only-of-type {\n",
       "        vertical-align: middle;\n",
       "    }\n",
       "\n",
       "    .dataframe tbody tr th {\n",
       "        vertical-align: top;\n",
       "    }\n",
       "\n",
       "    .dataframe thead th {\n",
       "        text-align: right;\n",
       "    }\n",
       "</style>\n",
       "<table border=\"1\" class=\"dataframe\">\n",
       "  <thead>\n",
       "    <tr style=\"text-align: right;\">\n",
       "      <th></th>\n",
       "      <th>id</th>\n",
       "      <th>label</th>\n",
       "    </tr>\n",
       "  </thead>\n",
       "  <tbody>\n",
       "    <tr>\n",
       "      <th>0</th>\n",
       "      <td>0</td>\n",
       "      <td>3</td>\n",
       "    </tr>\n",
       "    <tr>\n",
       "      <th>1</th>\n",
       "      <td>1</td>\n",
       "      <td>0</td>\n",
       "    </tr>\n",
       "    <tr>\n",
       "      <th>2</th>\n",
       "      <td>2</td>\n",
       "      <td>2</td>\n",
       "    </tr>\n",
       "    <tr>\n",
       "      <th>3</th>\n",
       "      <td>3</td>\n",
       "      <td>6</td>\n",
       "    </tr>\n",
       "    <tr>\n",
       "      <th>4</th>\n",
       "      <td>4</td>\n",
       "      <td>7</td>\n",
       "    </tr>\n",
       "  </tbody>\n",
       "</table>\n",
       "</div>"
      ],
      "text/plain": [
       "   id  label\n",
       "0   0      3\n",
       "1   1      0\n",
       "2   2      2\n",
       "3   3      6\n",
       "4   4      7"
      ]
     },
     "execution_count": 9,
     "metadata": {},
     "output_type": "execute_result"
    }
   ],
   "source": [
    "X_test, _ = next(iter(testloader))\n",
    "X_test = X_test.to(device)\n",
    "test_preds = model(X_test).data.max(dim=1)[1].detach().cpu().numpy()\n",
    "\n",
    "test_preds_df = pd.DataFrame(np.stack([np.arange(len(test_preds)), np.array(test_preds)]).T, \n",
    "                             columns=['id', 'label'])\n",
    "\n",
    "test_preds_df.to_csv(\"submission.csv\", index=False)\n",
    "\n",
    "test_preds_df.head()"
   ]
  },
  {
   "cell_type": "markdown",
   "id": "3120cb4f",
   "metadata": {},
   "source": [
    "## Grid search"
   ]
  },
  {
   "cell_type": "code",
   "execution_count": 10,
   "id": "b87a08f5",
   "metadata": {},
   "outputs": [],
   "source": [
    "# dt_grid = [1e-4, 1e-3, 1e-2]\n",
    "# batch_size_grid = [8, 32, 64]\n",
    "\n",
    "\n",
    "# for dt in dt_grid:\n",
    "#     for batch_size in batch_size_grid:\n",
    "#         print(f\"\\n======\\nGridsearch for dt, batch_size = ({dt}, {batch_size})\")\n",
    "        "
   ]
  },
  {
   "cell_type": "code",
   "execution_count": null,
   "id": "0f7a3af2",
   "metadata": {},
   "outputs": [],
   "source": []
  },
  {
   "cell_type": "code",
   "execution_count": null,
   "id": "fa9cfbe8",
   "metadata": {},
   "outputs": [],
   "source": []
  }
 ],
 "metadata": {
  "kernelspec": {
   "display_name": "Python 3 (ipykernel)",
   "language": "python",
   "name": "python3"
  },
  "language_info": {
   "codemirror_mode": {
    "name": "ipython",
    "version": 3
   },
   "file_extension": ".py",
   "mimetype": "text/x-python",
   "name": "python",
   "nbconvert_exporter": "python",
   "pygments_lexer": "ipython3",
   "version": "3.8.10"
  }
 },
 "nbformat": 4,
 "nbformat_minor": 5
}
